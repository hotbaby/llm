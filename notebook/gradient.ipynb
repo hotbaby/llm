{
 "cells": [
  {
   "cell_type": "code",
   "execution_count": 1,
   "metadata": {},
   "outputs": [],
   "source": [
    "import torch\n",
    "import numpy as np\n",
    "import torch.nn as nn"
   ]
  },
  {
   "cell_type": "code",
   "execution_count": 2,
   "metadata": {},
   "outputs": [
    {
     "name": "stdout",
     "output_type": "stream",
     "text": [
      "tensor([[0., 1., 2.],\n",
      "        [3., 4., 5.]], grad_fn=<ViewBackward0>) tensor([[-0.0750,  0.0928, -0.0419,  0.1630],\n",
      "        [ 0.4259, -0.5716, -0.0995,  0.3151],\n",
      "        [ 0.3625, -0.0456,  0.4397,  0.1009]], grad_fn=<PermuteBackward0>) tensor([[3., 3., 3., 3.],\n",
      "        [5., 5., 5., 5.],\n",
      "        [7., 7., 7., 7.]])\n"
     ]
    }
   ],
   "source": [
    "m = nn.Linear(3, 4, bias=False)\n",
    "p = list(m.parameters())[0]\n",
    "# print(p.T, p.grad)\n",
    "\n",
    "x = torch.arange(6, dtype=torch.float32, requires_grad=True).view(2, 3)\n",
    "y = m(x).sum()\n",
    "y.backward()\n",
    "# print(y)\n",
    "print(x, p.T, p.grad.T)"
   ]
  }
 ],
 "metadata": {
  "kernelspec": {
   "display_name": "torch",
   "language": "python",
   "name": "python3"
  },
  "language_info": {
   "codemirror_mode": {
    "name": "ipython",
    "version": 3
   },
   "file_extension": ".py",
   "mimetype": "text/x-python",
   "name": "python",
   "nbconvert_exporter": "python",
   "pygments_lexer": "ipython3",
   "version": "3.8.16"
  },
  "orig_nbformat": 4,
  "vscode": {
   "interpreter": {
    "hash": "55a26945acae1dbe174fa8a7f2737f59bcc9ca988f8fc990f33e458e609cda8c"
   }
  }
 },
 "nbformat": 4,
 "nbformat_minor": 2
}
