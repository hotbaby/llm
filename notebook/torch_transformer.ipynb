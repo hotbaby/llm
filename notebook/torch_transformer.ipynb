{
 "cells": [
  {
   "cell_type": "code",
   "execution_count": 1,
   "metadata": {},
   "outputs": [],
   "source": [
    "import torch\n",
    "import torch.nn as nn"
   ]
  },
  {
   "cell_type": "code",
   "execution_count": 2,
   "metadata": {},
   "outputs": [],
   "source": [
    "dim = 512\n",
    "ff_dim = 2045\n",
    "n_layers = 8\n",
    "n_heads = 8"
   ]
  },
  {
   "attachments": {},
   "cell_type": "markdown",
   "metadata": {},
   "source": [
    "## Transformer Encoder"
   ]
  },
  {
   "cell_type": "code",
   "execution_count": 3,
   "metadata": {},
   "outputs": [],
   "source": [
    "encoder = nn.TransformerEncoderLayer(dim, nhead=n_heads, dim_feedforward=ff_dim)"
   ]
  },
  {
   "cell_type": "code",
   "execution_count": 4,
   "metadata": {},
   "outputs": [
    {
     "name": "stdout",
     "output_type": "stream",
     "text": [
      "TransformerEncoderLayer(\n",
      "  (self_attn): MultiheadAttention(\n",
      "    (out_proj): NonDynamicallyQuantizableLinear(in_features=512, out_features=512, bias=True)\n",
      "  )\n",
      "  (linear1): Linear(in_features=512, out_features=2045, bias=True)\n",
      "  (dropout): Dropout(p=0.1, inplace=False)\n",
      "  (linear2): Linear(in_features=2045, out_features=512, bias=True)\n",
      "  (norm1): LayerNorm((512,), eps=1e-05, elementwise_affine=True)\n",
      "  (norm2): LayerNorm((512,), eps=1e-05, elementwise_affine=True)\n",
      "  (dropout1): Dropout(p=0.1, inplace=False)\n",
      "  (dropout2): Dropout(p=0.1, inplace=False)\n",
      ")\n"
     ]
    }
   ],
   "source": [
    "print(encoder)"
   ]
  },
  {
   "cell_type": "code",
   "execution_count": 5,
   "metadata": {},
   "outputs": [
    {
     "name": "stdout",
     "output_type": "stream",
     "text": [
      "encoder params: 3,149,309\n"
     ]
    }
   ],
   "source": [
    "params = sum([p.numel() for p in encoder.parameters()])\n",
    "print(f\"encoder params: {params:,d}\")"
   ]
  },
  {
   "attachments": {},
   "cell_type": "markdown",
   "metadata": {},
   "source": [
    "## Transformer Decoder"
   ]
  },
  {
   "cell_type": "code",
   "execution_count": 6,
   "metadata": {},
   "outputs": [],
   "source": [
    "decoder = nn.TransformerDecoderLayer(dim, nhead=n_heads, dim_feedforward=2048)"
   ]
  },
  {
   "cell_type": "code",
   "execution_count": 7,
   "metadata": {},
   "outputs": [
    {
     "name": "stdout",
     "output_type": "stream",
     "text": [
      "TransformerDecoderLayer(\n",
      "  (self_attn): MultiheadAttention(\n",
      "    (out_proj): NonDynamicallyQuantizableLinear(in_features=512, out_features=512, bias=True)\n",
      "  )\n",
      "  (multihead_attn): MultiheadAttention(\n",
      "    (out_proj): NonDynamicallyQuantizableLinear(in_features=512, out_features=512, bias=True)\n",
      "  )\n",
      "  (linear1): Linear(in_features=512, out_features=2048, bias=True)\n",
      "  (dropout): Dropout(p=0.1, inplace=False)\n",
      "  (linear2): Linear(in_features=2048, out_features=512, bias=True)\n",
      "  (norm1): LayerNorm((512,), eps=1e-05, elementwise_affine=True)\n",
      "  (norm2): LayerNorm((512,), eps=1e-05, elementwise_affine=True)\n",
      "  (norm3): LayerNorm((512,), eps=1e-05, elementwise_affine=True)\n",
      "  (dropout1): Dropout(p=0.1, inplace=False)\n",
      "  (dropout2): Dropout(p=0.1, inplace=False)\n",
      "  (dropout3): Dropout(p=0.1, inplace=False)\n",
      ")\n"
     ]
    }
   ],
   "source": [
    "print(decoder)"
   ]
  },
  {
   "cell_type": "code",
   "execution_count": 8,
   "metadata": {},
   "outputs": [
    {
     "name": "stdout",
     "output_type": "stream",
     "text": [
      "decoder params: 4,204,032\n",
      "\n",
      "transformer decoder params:\n",
      "self_attn.in_proj_weight torch.Size([1536, 512])\n",
      "self_attn.in_proj_bias torch.Size([1536])\n",
      "self_attn.out_proj.weight torch.Size([512, 512])\n",
      "self_attn.out_proj.bias torch.Size([512])\n",
      "multihead_attn.in_proj_weight torch.Size([1536, 512])\n",
      "multihead_attn.in_proj_bias torch.Size([1536])\n",
      "multihead_attn.out_proj.weight torch.Size([512, 512])\n",
      "multihead_attn.out_proj.bias torch.Size([512])\n",
      "linear1.weight torch.Size([2048, 512])\n",
      "linear1.bias torch.Size([2048])\n",
      "linear2.weight torch.Size([512, 2048])\n",
      "linear2.bias torch.Size([512])\n",
      "norm1.weight torch.Size([512])\n",
      "norm1.bias torch.Size([512])\n",
      "norm2.weight torch.Size([512])\n",
      "norm2.bias torch.Size([512])\n",
      "norm3.weight torch.Size([512])\n",
      "norm3.bias torch.Size([512])\n"
     ]
    }
   ],
   "source": [
    "# Transformer Decoder参数量：\n",
    "params = sum([p.numel() for p in decoder.parameters()])\n",
    "print(f\"decoder params: {params:,d}\\n\")\n",
    "\n",
    "print(\"transformer decoder params:\")\n",
    "for name, p in decoder.named_parameters():\n",
    "    print(name, p.size())"
   ]
  }
 ],
 "metadata": {
  "kernelspec": {
   "display_name": "torch",
   "language": "python",
   "name": "python3"
  },
  "language_info": {
   "codemirror_mode": {
    "name": "ipython",
    "version": 3
   },
   "file_extension": ".py",
   "mimetype": "text/x-python",
   "name": "python",
   "nbconvert_exporter": "python",
   "pygments_lexer": "ipython3",
   "version": "3.8.16"
  },
  "orig_nbformat": 4,
  "vscode": {
   "interpreter": {
    "hash": "55a26945acae1dbe174fa8a7f2737f59bcc9ca988f8fc990f33e458e609cda8c"
   }
  }
 },
 "nbformat": 4,
 "nbformat_minor": 2
}
