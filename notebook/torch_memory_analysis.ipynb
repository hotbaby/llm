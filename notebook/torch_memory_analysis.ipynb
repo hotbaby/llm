{
 "cells": [
  {
   "cell_type": "code",
   "execution_count": 18,
   "metadata": {},
   "outputs": [
    {
     "name": "stdout",
     "output_type": "stream",
     "text": [
      "linear1.weight torch.Size([1000, 100]) torch.Size([1000, 100]) cuda:0\n",
      "linear1.bias torch.Size([1000]) torch.Size([1000]) cuda:0\n",
      "linear2.weight torch.Size([10, 1000]) torch.Size([10, 1000]) cuda:0\n",
      "linear2.bias torch.Size([10]) torch.Size([10]) cuda:0\n",
      "----------------------------------------------------------------\n",
      "        Layer (type)               Output Shape         Param #\n",
      "================================================================\n",
      "            Linear-1                 [32, 1000]         101,000\n",
      "              ReLU-2                 [32, 1000]               0\n",
      "            Linear-3                   [32, 10]          10,010\n",
      "================================================================\n",
      "Total params: 111,010\n",
      "Trainable params: 111,010\n",
      "Non-trainable params: 0\n",
      "----------------------------------------------------------------\n",
      "Input size (MB): 0.01\n",
      "Forward/backward pass size (MB): 0.49\n",
      "Params size (MB): 0.42\n",
      "Estimated Total Size (MB): 0.93\n",
      "----------------------------------------------------------------\n",
      "cuda memory_allocated: 21877 KB\n",
      "cuda max_memory_allocated: 22910 KB\n",
      "cuda max_memory_reserved: 28672 KB\n"
     ]
    }
   ],
   "source": [
    "# encoding: utf8\n",
    "\n",
    "\n",
    "import torch\n",
    "import torch.nn as nn\n",
    "import torch.optim as optim\n",
    "from torchsummary import summary\n",
    "\n",
    "\n",
    "class Model(nn.Module):\n",
    "    \n",
    "    def __init__(self, input_size: int, hidden_size: int, output_size: int) -> None:\n",
    "        super().__init__()\n",
    "        \n",
    "        self.linear1 = nn.Linear(input_size, hidden_size)\n",
    "        self.relu = nn.ReLU()\n",
    "        self.linear2 = nn.Linear(hidden_size, output_size)\n",
    "\n",
    "    def forward(self, x):\n",
    "        x = self.linear1(x)\n",
    "        x = self.relu(x)\n",
    "        x = self.linear2(x)\n",
    "\n",
    "        return x\n",
    "\n",
    "\n",
    "batch_size = 32\n",
    "input_size = 100\n",
    "hidden_size = 1000\n",
    "output_size = 10\n",
    "\n",
    "# 定义模型、损失函数和优化器\n",
    "model = Model(input_size, hidden_size, output_size)\n",
    "model = model.cuda()\n",
    "loss_fn = nn.MSELoss()\n",
    "optimizer = optim.Adam(model.parameters(), lr=1e-3)\n",
    "\n",
    "# 前向传播\n",
    "x = torch.randn(batch_size, input_size).cuda()\n",
    "label = torch.randn(batch_size, output_size).cuda()\n",
    "y_pred = model(x)\n",
    "loss = loss_fn(y_pred, label)\n",
    "\n",
    "# 反向传播，更新梯度\n",
    "optimizer.zero_grad()\n",
    "loss.backward()\n",
    "optimizer.step()\n",
    "\n",
    "for name, value in list(model.named_parameters()):\n",
    "    print(name, value.size(), value.grad.size(), value.device)\n",
    "\n",
    "\n",
    "summary(model, (input_size,), batch_size=32, device=\"cuda\")\n",
    "\n",
    "print(f\"cuda memory_allocated: {torch.cuda.memory_allocated()//1024} KB\")\n",
    "print(f\"cuda max_memory_allocated: {torch.cuda.max_memory_allocated()//1024} KB\")\n",
    "print(f\"cuda max_memory_reserved: {torch.cuda.max_memory_reserved()//1024} KB\")"
   ]
  },
  {
   "cell_type": "code",
   "execution_count": 15,
   "metadata": {},
   "outputs": [
    {
     "name": "stdout",
     "output_type": "stream",
     "text": [
      "optimizer parameter 0, dtype: torch.float32, shape torch.Size([1000, 100])\n",
      "optimizer parameter 1, dtype: torch.float32, shape torch.Size([1000])\n",
      "optimizer parameter 2, dtype: torch.float32, shape torch.Size([10, 1000])\n",
      "optimizer parameter 3, dtype: torch.float32, shape torch.Size([10])\n"
     ]
    }
   ],
   "source": [
    "for i, p in enumerate(optimizer.param_groups[0][\"params\"]):\n",
    "    print(f\"optimizer parameter {i}, dtype: {p.dtype}, shape {p.size()}\")"
   ]
  },
  {
   "cell_type": "code",
   "execution_count": 20,
   "metadata": {},
   "outputs": [],
   "source": [
    "state_dict = optimizer.state_dict()\n",
    "\n",
    "state = state_dict[\"state\"]\n",
    "param_groups = state_dict[\"param_groups\"]"
   ]
  },
  {
   "cell_type": "code",
   "execution_count": 54,
   "metadata": {},
   "outputs": [
    {
     "name": "stdout",
     "output_type": "stream",
     "text": [
      "torch.Size([1000, 100])\n",
      "torch.Size([1000])\n",
      "torch.Size([10, 1000])\n",
      "torch.Size([10])\n"
     ]
    }
   ],
   "source": [
    "for p in optimizer.param_groups[0][\"params\"]:\n",
    "    print(p.size())"
   ]
  },
  {
   "cell_type": "code",
   "execution_count": 59,
   "metadata": {},
   "outputs": [],
   "source": [
    "for v in state_dict[\"state\"].values():\n",
    "    if isinstance(v, torch.Tensor):\n",
    "        print(v.size())"
   ]
  },
  {
   "cell_type": "code",
   "execution_count": 70,
   "metadata": {},
   "outputs": [],
   "source": [
    "def recursive_print_params(state):\n",
    "    if isinstance(state, torch.Tensor):\n",
    "        print(hex(id(state)), state.size())\n",
    "    elif isinstance(state, dict):\n",
    "        for v in state.values():\n",
    "            recursive_print_params(v)\n",
    "    elif isinstance(state, list):\n",
    "        for v in state:\n",
    "            recursive_print_params(v)"
   ]
  },
  {
   "cell_type": "code",
   "execution_count": 87,
   "metadata": {},
   "outputs": [],
   "source": [
    "def recursive_print_params(state, key=\"\"):\n",
    "    if isinstance(state, torch.Tensor):\n",
    "        print(hex(id(state)), key, state.size())\n",
    "    elif isinstance(state, dict):\n",
    "        for k, v in state.items():\n",
    "            recursive_print_params(v, \".\".join([key, str(k)]))\n",
    "    elif isinstance(state, list):\n",
    "        for i, v in enumerate(state):\n",
    "            recursive_print_params(v, \".\".join([key, str(i)]))\n"
   ]
  },
  {
   "cell_type": "code",
   "execution_count": 88,
   "metadata": {},
   "outputs": [
    {
     "name": "stdout",
     "output_type": "stream",
     "text": [
      "0x7fdef27b4ae0 .0.step torch.Size([])\n",
      "0x7fdef27b4630 .0.exp_avg torch.Size([1000, 100])\n",
      "0x7fdef27b4310 .0.exp_avg_sq torch.Size([1000, 100])\n",
      "0x7fdef27b4950 .1.step torch.Size([])\n",
      "0x7fdef27b4810 .1.exp_avg torch.Size([1000])\n",
      "0x7fdef27b41d0 .1.exp_avg_sq torch.Size([1000])\n",
      "0x7fdef27b45e0 .2.step torch.Size([])\n",
      "0x7fdef27b46d0 .2.exp_avg torch.Size([10, 1000])\n",
      "0x7fdef27b44f0 .2.exp_avg_sq torch.Size([10, 1000])\n",
      "0x7fdef27b42c0 .3.step torch.Size([])\n",
      "0x7fdef27b4b30 .3.exp_avg torch.Size([10])\n",
      "0x7fdef27b4b80 .3.exp_avg_sq torch.Size([10])\n"
     ]
    }
   ],
   "source": [
    "recursive_print_params(state)"
   ]
  },
  {
   "cell_type": "code",
   "execution_count": 73,
   "metadata": {},
   "outputs": [
    {
     "name": "stdout",
     "output_type": "stream",
     "text": [
      "0x7fdeff48c900 torch.Size([1000, 100])\n",
      "0x7fdef80ca4a0 torch.Size([1000])\n",
      "0x7fdef27b49f0 torch.Size([10, 1000])\n",
      "0x7fdef27b4a40 torch.Size([10])\n"
     ]
    }
   ],
   "source": [
    "for p in list(model.parameters()):\n",
    "    print(hex(id(p)), p.size())"
   ]
  },
  {
   "cell_type": "code",
   "execution_count": 78,
   "metadata": {},
   "outputs": [
    {
     "name": "stdout",
     "output_type": "stream",
     "text": [
      "0x7fdeff48c900 torch.Size([1000, 100])\n",
      "0x7fdef80ca4a0 torch.Size([1000])\n",
      "0x7fdef27b49f0 torch.Size([10, 1000])\n",
      "0x7fdef27b4a40 torch.Size([10])\n"
     ]
    }
   ],
   "source": [
    "for p in optimizer.param_groups[0][\"params\"]:\n",
    "    print(hex(id(p)), p.size())"
   ]
  }
 ],
 "metadata": {
  "kernelspec": {
   "display_name": "torch",
   "language": "python",
   "name": "python3"
  },
  "language_info": {
   "codemirror_mode": {
    "name": "ipython",
    "version": 3
   },
   "file_extension": ".py",
   "mimetype": "text/x-python",
   "name": "python",
   "nbconvert_exporter": "python",
   "pygments_lexer": "ipython3",
   "version": "3.8.16"
  },
  "orig_nbformat": 4,
  "vscode": {
   "interpreter": {
    "hash": "55a26945acae1dbe174fa8a7f2737f59bcc9ca988f8fc990f33e458e609cda8c"
   }
  }
 },
 "nbformat": 4,
 "nbformat_minor": 2
}
