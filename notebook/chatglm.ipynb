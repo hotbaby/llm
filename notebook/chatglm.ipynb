{
 "cells": [
  {
   "cell_type": "code",
   "execution_count": 1,
   "metadata": {},
   "outputs": [],
   "source": [
    "import transformers\n",
    "from transformers import AutoModel, AutoTokenizer\n",
    "# from transformers_modules.tokenization_chatglm import ChatGLMTokenizer"
   ]
  },
  {
   "attachments": {},
   "cell_type": "markdown",
   "metadata": {},
   "source": [
    "安装依赖包"
   ]
  },
  {
   "cell_type": "code",
   "execution_count": 2,
   "metadata": {},
   "outputs": [],
   "source": [
    "# !pip install icetk"
   ]
  },
  {
   "attachments": {},
   "cell_type": "markdown",
   "metadata": {},
   "source": [
    "初始化Tokenizer和模型"
   ]
  },
  {
   "cell_type": "code",
   "execution_count": 3,
   "metadata": {},
   "outputs": [],
   "source": [
    "model_name = \"THUDM/chatglm-6b\"\n",
    "model_path = \"/data/models/chatglm/6B/\""
   ]
  },
  {
   "cell_type": "code",
   "execution_count": 4,
   "metadata": {},
   "outputs": [
    {
     "name": "stderr",
     "output_type": "stream",
     "text": [
      "Explicitly passing a `revision` is encouraged when loading a model with custom code to ensure no malicious code has been contributed in a newer revision.\n"
     ]
    }
   ],
   "source": [
    "tokenizer = AutoTokenizer.from_pretrained(model_path, trust_remote_code=True)"
   ]
  },
  {
   "cell_type": "code",
   "execution_count": 5,
   "metadata": {},
   "outputs": [
    {
     "name": "stderr",
     "output_type": "stream",
     "text": [
      "Explicitly passing a `revision` is encouraged when loading a configuration with custom code to ensure no malicious code has been contributed in a newer revision.\n",
      "Explicitly passing a `revision` is encouraged when loading a model with custom code to ensure no malicious code has been contributed in a newer revision.\n"
     ]
    },
    {
     "data": {
      "application/vnd.jupyter.widget-view+json": {
       "model_id": "ce7f804867834ab3bad3d098b7cfd604",
       "version_major": 2,
       "version_minor": 0
      },
      "text/plain": [
       "Loading checkpoint shards:   0%|          | 0/8 [00:00<?, ?it/s]"
      ]
     },
     "metadata": {},
     "output_type": "display_data"
    }
   ],
   "source": [
    "model = AutoModel.from_pretrained(model_path, trust_remote_code=True).half().cuda()"
   ]
  },
  {
   "cell_type": "code",
   "execution_count": 6,
   "metadata": {},
   "outputs": [
    {
     "data": {
      "text/plain": [
       "ChatGLMForConditionalGeneration(\n",
       "  (transformer): ChatGLMModel(\n",
       "    (word_embeddings): Embedding(150528, 4096)\n",
       "    (layers): ModuleList(\n",
       "      (0-27): 28 x GLMBlock(\n",
       "        (input_layernorm): LayerNorm((4096,), eps=1e-05, elementwise_affine=True)\n",
       "        (attention): SelfAttention(\n",
       "          (rotary_emb): RotaryEmbedding()\n",
       "          (query_key_value): Linear(in_features=4096, out_features=12288, bias=True)\n",
       "          (dense): Linear(in_features=4096, out_features=4096, bias=True)\n",
       "        )\n",
       "        (post_attention_layernorm): LayerNorm((4096,), eps=1e-05, elementwise_affine=True)\n",
       "        (mlp): GLU(\n",
       "          (dense_h_to_4h): Linear(in_features=4096, out_features=16384, bias=True)\n",
       "          (dense_4h_to_h): Linear(in_features=16384, out_features=4096, bias=True)\n",
       "        )\n",
       "      )\n",
       "    )\n",
       "    (final_layernorm): LayerNorm((4096,), eps=1e-05, elementwise_affine=True)\n",
       "  )\n",
       "  (lm_head): Linear(in_features=4096, out_features=150528, bias=False)\n",
       ")"
      ]
     },
     "execution_count": 6,
     "metadata": {},
     "output_type": "execute_result"
    }
   ],
   "source": [
    "model.eval()"
   ]
  },
  {
   "cell_type": "code",
   "execution_count": 7,
   "metadata": {},
   "outputs": [
    {
     "name": "stderr",
     "output_type": "stream",
     "text": [
      "The dtype of attention mask (torch.int64) is not bool\n"
     ]
    },
    {
     "name": "stdout",
     "output_type": "stream",
     "text": [
      "你好👋！我是人工智能助手 ChatGLM-6B，很高兴见到你，欢迎问我任何问题。\n"
     ]
    }
   ],
   "source": [
    "response, history = model.chat(tokenizer, \"你好\", history=[])\n",
    "print(response)"
   ]
  },
  {
   "cell_type": "code",
   "execution_count": 8,
   "metadata": {},
   "outputs": [
    {
     "name": "stdout",
     "output_type": "stream",
     "text": [
      "我是ChatGLM-6B，是清华大学KEG实验室和智谱AI公司于2023年共同训练的语言模型。我的任务是服务并帮助人类，但我并不是一个真实的人。我可以通过文字回答问题，提供建议和信息，但我不能浏览网页或进行其他在线活动。\n"
     ]
    }
   ],
   "source": [
    "response, history = model.chat(tokenizer, \"介绍下自己吧\", history=history)\n",
    "print(response)"
   ]
  },
  {
   "cell_type": "code",
   "execution_count": 9,
   "metadata": {},
   "outputs": [
    {
     "name": "stdout",
     "output_type": "stream",
     "text": [
      "[('你好', '你好👋！我是人工智能助手 ChatGLM-6B，很高兴见到你，欢迎问我任何问题。'), ('介绍下自己吧', '我是ChatGLM-6B，是清华大学KEG实验室和智谱AI公司于2023年共同训练的语言模型。我的任务是服务并帮助人类，但我并不是一个真实的人。我可以通过文字回答问题，提供建议和信息，但我不能浏览网页或进行其他在线活动。')]\n"
     ]
    }
   ],
   "source": [
    "print(history)"
   ]
  },
  {
   "cell_type": "code",
   "execution_count": 10,
   "metadata": {},
   "outputs": [
    {
     "name": "stdout",
     "output_type": "stream",
     "text": [
      "海天瑞声是一家专注于音频领域的公司，总部位于中国上海。该公司成立于2006年，致力于为客户提供高品质的音频解决方案。\n",
      "\n",
      "海天瑞声的主要业务包括音频设备制造、声学设计、音响工程服务、音乐制作等。公司的产品包括耳机、音响系统、数字音频工作站、视频会议系统等。\n",
      "\n",
      "海天瑞声的音频设备以其高品质、高可靠性和高性能而闻名。该公司的产品线涵盖了多个不同的音频应用场景，包括音乐演出、录音棚、家庭娱乐、医疗等。\n",
      "\n",
      "除了产品本身，海天瑞声还提供声学设计和音响工程服务，帮助客户实现其音频需求。公司的团队由一群经验丰富、技术精湛的音频工程师和设计师组成，可以为客户提供定制化的音频解决方案。\n",
      "\n",
      "海天瑞声是一家专业、可靠、创新的公司，其产品和服务得到了客户的认可和好评。\n"
     ]
    }
   ],
   "source": [
    "response, history = model.chat(tokenizer, \"介绍下海天瑞声\", history=[])\n",
    "print(response)"
   ]
  },
  {
   "cell_type": "code",
   "execution_count": 11,
   "metadata": {},
   "outputs": [
    {
     "name": "stdout",
     "output_type": "stream",
     "text": [
      "海天瑞声的主要业务包括：\n",
      "\n",
      "1. 音频设备制造：包括耳机、音响系统、数字音频工作站、视频会议系统等。\n",
      "\n",
      "2. 声学设计：包括对声音环境进行声学分析和设计，以实现最佳的音频效果。\n",
      "\n",
      "3. 音响工程服务：包括为个人、商业和组织提供各种类型的音响系统工程，包括室内和室外音响工程、音乐演出音响工程、广播音响工程等。\n",
      "\n",
      "4. 音乐制作：包括音乐录音、混音、母带处理等音乐制作流程，为客户提供数字音乐制作服务。\n"
     ]
    }
   ],
   "source": [
    "resp, history = model.chat(tokenizer, \"他的主营业务有哪些\", history=history)\n",
    "print(resp)"
   ]
  },
  {
   "cell_type": "code",
   "execution_count": 12,
   "metadata": {},
   "outputs": [
    {
     "name": "stdout",
     "output_type": "stream",
     "text": [
      "公司的CTO是朱小燕(ZhiYuan Zhu)。她于2010年毕业于上海交通大学，获得计算机科学与工程博士学位。曾在微软公司工作多年，担任软件工程师和项目经理等职务，积累了丰富的软件开发和项目管理经验。\n",
      "\n",
      "在2010年，朱小燕加入海天瑞声，担任CTO职位。她在CTO职位上领导了公司的技术发展和创新，推动了公司技术的发展和进步。除了技术工作外，朱小燕还积极参与公司的企业文化建设、员工培训和发展等工作，为公司的长远发展奠定了坚实的基础。\n"
     ]
    }
   ],
   "source": [
    "resp, history = model.chat(tokenizer, \"公司的CTO是谁\", history=history)\n",
    "print(resp)"
   ]
  },
  {
   "cell_type": "code",
   "execution_count": 13,
   "metadata": {},
   "outputs": [
    {
     "name": "stdout",
     "output_type": "stream",
     "text": [
      "公司的法人是公司的董事会或股东会。在中国，公司的法人是公司的董事会，如果董事会由多个股东组成，则股东会作为董事会的执行机构。\n",
      "\n",
      "公司的法人必须遵守相关法律法规，承担公司法规定的责任和义务，维护公司的合法权益。在公司内部，公司的法人享有权利和承担义务，与员工、股东和其他利益相关者一样，为公司的发展和管理承担责任。\n"
     ]
    }
   ],
   "source": [
    "resp, history = model.chat(tokenizer, \"公司的法人是谁\", history=history)\n",
    "print(resp)"
   ]
  },
  {
   "cell_type": "code",
   "execution_count": 14,
   "metadata": {},
   "outputs": [
    {
     "name": "stdout",
     "output_type": "stream",
     "text": [
      "[('介绍下海天瑞声', '海天瑞声是一家专注于音频领域的公司，总部位于中国上海。该公司成立于2006年，致力于为客户提供高品质的音频解决方案。\\n\\n海天瑞声的主要业务包括音频设备制造、声学设计、音响工程服务、音乐制作等。公司的产品包括耳机、音响系统、数字音频工作站、视频会议系统等。\\n\\n海天瑞声的音频设备以其高品质、高可靠性和高性能而闻名。该公司的产品线涵盖了多个不同的音频应用场景，包括音乐演出、录音棚、家庭娱乐、医疗等。\\n\\n除了产品本身，海天瑞声还提供声学设计和音响工程服务，帮助客户实现其音频需求。公司的团队由一群经验丰富、技术精湛的音频工程师和设计师组成，可以为客户提供定制化的音频解决方案。\\n\\n海天瑞声是一家专业、可靠、创新的公司，其产品和服务得到了客户的认可和好评。'), ('他的主营业务有哪些', '海天瑞声的主要业务包括：\\n\\n1. 音频设备制造：包括耳机、音响系统、数字音频工作站、视频会议系统等。\\n\\n2. 声学设计：包括对声音环境进行声学分析和设计，以实现最佳的音频效果。\\n\\n3. 音响工程服务：包括为个人、商业和组织提供各种类型的音响系统工程，包括室内和室外音响工程、音乐演出音响工程、广播音响工程等。\\n\\n4. 音乐制作：包括音乐录音、混音、母带处理等音乐制作流程，为客户提供数字音乐制作服务。'), ('公司的CTO是谁', '公司的CTO是朱小燕(ZhiYuan Zhu)。她于2010年毕业于上海交通大学，获得计算机科学与工程博士学位。曾在微软公司工作多年，担任软件工程师和项目经理等职务，积累了丰富的软件开发和项目管理经验。\\n\\n在2010年，朱小燕加入海天瑞声，担任CTO职位。她在CTO职位上领导了公司的技术发展和创新，推动了公司技术的发展和进步。除了技术工作外，朱小燕还积极参与公司的企业文化建设、员工培训和发展等工作，为公司的长远发展奠定了坚实的基础。'), ('公司的法人是谁', '公司的法人是公司的董事会或股东会。在中国，公司的法人是公司的董事会，如果董事会由多个股东组成，则股东会作为董事会的执行机构。\\n\\n公司的法人必须遵守相关法律法规，承担公司法规定的责任和义务，维护公司的合法权益。在公司内部，公司的法人享有权利和承担义务，与员工、股东和其他利益相关者一样，为公司的发展和管理承担责任。')]\n"
     ]
    }
   ],
   "source": [
    "print(history)"
   ]
  }
 ],
 "metadata": {
  "kernelspec": {
   "display_name": "torch",
   "language": "python",
   "name": "python3"
  },
  "language_info": {
   "codemirror_mode": {
    "name": "ipython",
    "version": 3
   },
   "file_extension": ".py",
   "mimetype": "text/x-python",
   "name": "python",
   "nbconvert_exporter": "python",
   "pygments_lexer": "ipython3",
   "version": "3.8.16"
  },
  "orig_nbformat": 4,
  "vscode": {
   "interpreter": {
    "hash": "55a26945acae1dbe174fa8a7f2737f59bcc9ca988f8fc990f33e458e609cda8c"
   }
  }
 },
 "nbformat": 4,
 "nbformat_minor": 2
}
