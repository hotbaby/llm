{
 "cells": [
  {
   "cell_type": "code",
   "execution_count": 44,
   "metadata": {},
   "outputs": [],
   "source": [
    "import numpy as np\n",
    "import pandas as pd\n",
    "import openai\n",
    "import torch\n",
    "import torch.nn as nn\n",
    "import openai\n",
    "\n",
    "from transformers import GPT2Model, GPT2Tokenizer\n",
    "from llama_tokenizer import Tokenizer as LLaMATokenizer"
   ]
  },
  {
   "cell_type": "code",
   "execution_count": 2,
   "metadata": {},
   "outputs": [],
   "source": [
    "tokenizer_path = \"/data/models/LLaMA/7B/tokenizer.model\"\n",
    "llama_tokenizer = LLaMATokenizer(tokenizer_path)"
   ]
  },
  {
   "cell_type": "code",
   "execution_count": 49,
   "metadata": {},
   "outputs": [],
   "source": [
    "gpt2_model_path = \"/data/models/gpt2/\"\n",
    "gpt2_tokenizer = GPT2Tokenizer.from_pretrained(gpt2_model_path)\n",
    "gpt_model = GPT2Model.from_pretrained(gpt2_model_path)"
   ]
  }
 ],
 "metadata": {
  "kernelspec": {
   "display_name": "torch",
   "language": "python",
   "name": "python3"
  },
  "language_info": {
   "codemirror_mode": {
    "name": "ipython",
    "version": 3
   },
   "file_extension": ".py",
   "mimetype": "text/x-python",
   "name": "python",
   "nbconvert_exporter": "python",
   "pygments_lexer": "ipython3",
   "version": "3.8.16"
  },
  "orig_nbformat": 4,
  "vscode": {
   "interpreter": {
    "hash": "55a26945acae1dbe174fa8a7f2737f59bcc9ca988f8fc990f33e458e609cda8c"
   }
  }
 },
 "nbformat": 4,
 "nbformat_minor": 2
}
